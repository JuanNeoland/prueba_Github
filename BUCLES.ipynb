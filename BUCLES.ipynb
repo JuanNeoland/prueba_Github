{
 "cells": [
  {
   "cell_type": "markdown",
   "metadata": {},
   "source": [
    "# BUCLE FOR\n"
   ]
  },
  {
   "cell_type": "markdown",
   "metadata": {},
   "source": [
    "### Tenemos esa lista y le decimos que la recorra, y cada vez q recorra un elemento de esa lista imprima un hola"
   ]
  },
  {
   "cell_type": "code",
   "execution_count": 13,
   "metadata": {},
   "outputs": [
    {
     "name": "stdout",
     "output_type": "stream",
     "text": [
      "Hola\n",
      "Hola\n",
      "Hola\n",
      "Hola\n"
     ]
    }
   ],
   "source": [
    "for i in [1,2,3,4]:\n",
    "    print(\"Hola\")"
   ]
  },
  {
   "cell_type": "markdown",
   "metadata": {},
   "source": [
    "Si queremos que este en una sola linea pondremos end"
   ]
  },
  {
   "cell_type": "code",
   "execution_count": 15,
   "metadata": {},
   "outputs": [
    {
     "name": "stdout",
     "output_type": "stream",
     "text": [
      "Hola Hola Hola Hola "
     ]
    }
   ],
   "source": [
    "for i in [1,2,3,4]:\n",
    "    print(\"Hola\", end=\" \")"
   ]
  },
  {
   "cell_type": "markdown",
   "metadata": {},
   "source": [
    "### Ahora ponemos una string en lugar de una lista:"
   ]
  },
  {
   "cell_type": "code",
   "execution_count": 16,
   "metadata": {},
   "outputs": [
    {
     "name": "stdout",
     "output_type": "stream",
     "text": [
      "Hola Hola Hola Hola Hola Hola Hola Hola Hola Hola Hola Hola Hola Hola Hola Hola Hola Hola Hola Hola Hola Hola Hola Hola Hola Hola Hola Hola Hola Hola Hola Hola "
     ]
    }
   ],
   "source": [
    "for i in \"juan@thepalmexperiencehotels.com\":\n",
    "    print(\"Hola\", end=\" \") # si no ponemos el end lo imprimira con un listado, como en el primer ejemplo"
   ]
  },
  {
   "cell_type": "markdown",
   "metadata": {},
   "source": [
    "Me imprime tantos hola´s como caracteres tiene la string"
   ]
  },
  {
   "cell_type": "markdown",
   "metadata": {},
   "source": [
    "### Lo que ha hecho es imprimir Hola cada vez que ha encontrado un elemento en la lista. \n",
    "### ¿ Que pasará si ponemos \"i\" en lugar de hola?"
   ]
  },
  {
   "cell_type": "code",
   "execution_count": 14,
   "metadata": {},
   "outputs": [
    {
     "name": "stdout",
     "output_type": "stream",
     "text": [
      "1\n",
      "2\n",
      "3\n",
      "4\n"
     ]
    }
   ],
   "source": [
    "for i in [1,2,3,4]:\n",
    "    print(i)"
   ]
  },
  {
   "cell_type": "markdown",
   "metadata": {},
   "source": [
    "### Vamos a programar un codigo para saber si un email es correcto o no:\n"
   ]
  },
  {
   "cell_type": "code",
   "execution_count": 26,
   "metadata": {},
   "outputs": [
    {
     "name": "stdout",
     "output_type": "stream",
     "text": [
      "El mail es incorrecto\n"
     ]
    }
   ],
   "source": [
    "email = False   # en este codigo tenemos que empezar diciendole que el mail es falso pq si no siempre seria verdadera la condicion\n",
    "for i in \"juan@thepalmexperiencehotels.com\":\n",
    "    if (i==\"@\"): # aqui le decimos que si hay una @ el email es True\n",
    "        email = True\n",
    "if email == True:\n",
    "    print ( \"El mail es correcto\")\n",
    "else:\n",
    "    print(\"El mail es incorrecto\")\n",
    "    \n",
    "    \n",
    "    "
   ]
  },
  {
   "cell_type": "markdown",
   "metadata": {},
   "source": [
    "### Ahora vamos a ponerlo más pro. Vamos a poner este código para cualquier email"
   ]
  },
  {
   "cell_type": "code",
   "execution_count": 30,
   "metadata": {},
   "outputs": [
    {
     "name": "stdout",
     "output_type": "stream",
     "text": [
      "Escribe tu email: juan@te.com\n",
      "El mail es correcto\n"
     ]
    }
   ],
   "source": [
    "email = False   \n",
    "mi_email = input (\"Escribe tu email: \")\n",
    "for i in mi_email:\n",
    "    if (i==\"@\"): # aqui le decimos que si hay una @ el email es True\n",
    "        email = True\n",
    "if email == True:\n",
    "    print ( \"El mail es correcto\")\n",
    "else:\n",
    "    print(\"El mail es incorrecto\")"
   ]
  },
  {
   "cell_type": "markdown",
   "metadata": {},
   "source": [
    "### Pero un mail no es válido si no tiene @ ni punto. Esto lo evaluamos con un contador"
   ]
  },
  {
   "cell_type": "code",
   "execution_count": 34,
   "metadata": {},
   "outputs": [
    {
     "name": "stdout",
     "output_type": "stream",
     "text": [
      "Escribe tu email: jusn@lkjiofjhw.com\n",
      "El mail es correcto\n"
     ]
    }
   ],
   "source": [
    "contador = 0      ## ponemos un contador a cero\n",
    "mi_email= input(\"Escribe tu email: \")\n",
    "\n",
    "for i in mi_email:\n",
    "    if i == \"@\" or i == \".\":\n",
    "        contador= contador+1 # aqui le decimos que si al recorrer i encuentra una arroba sume uno o \n",
    "                             # o si encuentra un punto sume otro uno.        \n",
    "if contador == 2: # por tanto si es = a 2 quiere deceir que cumple las dos condiciones dadas para ser correcto, el resto sera incorrecto\n",
    "    print(\"El mail es correcto\")\n",
    "else:\n",
    "    print (\"El mail es incorrecto\")\n",
    "    "
   ]
  },
  {
   "cell_type": "code",
   "execution_count": null,
   "metadata": {},
   "outputs": [],
   "source": []
  },
  {
   "cell_type": "code",
   "execution_count": null,
   "metadata": {},
   "outputs": [],
   "source": []
  },
  {
   "cell_type": "code",
   "execution_count": null,
   "metadata": {},
   "outputs": [],
   "source": []
  },
  {
   "cell_type": "markdown",
   "metadata": {},
   "source": [
    "### Pues que cuando va recorriendo la lista \"i\" como va cambiando de valor lo va imprimiendo"
   ]
  },
  {
   "cell_type": "code",
   "execution_count": 2,
   "metadata": {},
   "outputs": [
    {
     "name": "stdout",
     "output_type": "stream",
     "text": [
      "El valor de i es:  0\n",
      "El valor de i es:  1\n",
      "El valor de i es:  2\n",
      "El valor de i es:  3\n"
     ]
    }
   ],
   "source": [
    "## El bucle FOR    #####\n",
    "# for nos permite iterar \"n\" cantidad de veces un bloque de código\n",
    "\n",
    "for i in range(4):\n",
    "        print(\"El valor de i es: \", i)"
   ]
  },
  {
   "cell_type": "markdown",
   "metadata": {},
   "source": [
    "### La funcion range admite hasta 3 argumentos de entrada (x,x,x)"
   ]
  },
  {
   "cell_type": "markdown",
   "metadata": {},
   "source": [
    "### Con 2 argumentos(x,x) le decimos argumento de inicio y argumento final"
   ]
  },
  {
   "cell_type": "code",
   "execution_count": 36,
   "metadata": {},
   "outputs": [
    {
     "name": "stdout",
     "output_type": "stream",
     "text": [
      "El valor de i es:  4\n",
      "El valor de i es:  5\n",
      "El valor de i es:  6\n",
      "El valor de i es:  7\n",
      "El valor de i es:  8\n",
      "El valor de i es:  9\n"
     ]
    }
   ],
   "source": [
    "for i in range(4,10): # acordarsa que acabara en el 9\n",
    "        print(\"El valor de i es: \", i)"
   ]
  },
  {
   "cell_type": "markdown",
   "metadata": {},
   "source": [
    "### Con 3 argumentos(x,x,x) le decimos argumento de inicio, argumento final y salto"
   ]
  },
  {
   "cell_type": "code",
   "execution_count": 38,
   "metadata": {},
   "outputs": [
    {
     "name": "stdout",
     "output_type": "stream",
     "text": [
      "El valor de i es:  4\n",
      "El valor de i es:  6\n",
      "El valor de i es:  8\n"
     ]
    }
   ],
   "source": [
    "for i in range(4,10,2): \n",
    "        print(\"El valor de i es: \", i)"
   ]
  },
  {
   "cell_type": "markdown",
   "metadata": {},
   "source": [
    "### en este ejemplo animal sustituye a la i, aunque por convención lo normal sería utilizar i"
   ]
  },
  {
   "cell_type": "code",
   "execution_count": 3,
   "metadata": {},
   "outputs": [
    {
     "name": "stdout",
     "output_type": "stream",
     "text": [
      "El animal es:  Perro\n",
      "El animal es:  Gato\n",
      "El animal es:  Loro\n"
     ]
    }
   ],
   "source": [
    "### Para una lista seria así\n",
    "\n",
    "lista_animales = [\"Perro\", \"Gato\",\"Loro\"]\n",
    "for animal in lista_animales:\n",
    "    print (\"El animal es: \", animal)"
   ]
  },
  {
   "cell_type": "code",
   "execution_count": 4,
   "metadata": {},
   "outputs": [
    {
     "name": "stdout",
     "output_type": "stream",
     "text": [
      "El animal 0 es: Perro\n",
      "El animal 1 es: Gato\n",
      "El animal 2 es: Loro\n"
     ]
    }
   ],
   "source": [
    "# BUCLE FOR PARA OBTENER INDICE Y VALOR DE UNA LISTA\n",
    "#se hace con enumerate()\n",
    "\n",
    "for indice,animal in enumerate(lista_animales):\n",
    "    print(\"El animal \" + str(indice) + \" es: \" + animal)"
   ]
  },
  {
   "cell_type": "code",
   "execution_count": 5,
   "metadata": {},
   "outputs": [
    {
     "name": "stdout",
     "output_type": "stream",
     "text": [
      "El animal Perro es de color cafe\n",
      "El animal Perro es de color gris\n",
      "El animal Gato es de color cafe\n",
      "El animal Gato es de color gris\n",
      "El animal Loro es de color cafe\n",
      "El animal Loro es de color gris\n"
     ]
    }
   ],
   "source": [
    "## Bucle for anidado\n",
    "\n",
    "animales = [\"Perro\", \"Gato\",\"Loro\"]\n",
    "colores = [\"cafe\",\"gris\"]\n",
    "for animal in animales:\n",
    "    for color in colores:\n",
    "        print(\"El animal \" + animal + \" es de color \"+ color)"
   ]
  },
  {
   "cell_type": "code",
   "execution_count": 6,
   "metadata": {},
   "outputs": [
    {
     "name": "stdout",
     "output_type": "stream",
     "text": [
      "Tu edad es:  2\n",
      "Aún eres menor de edad.\n",
      "Tu edad es:  3\n",
      "Aún eres menor de edad.\n",
      "Tu edad es:  4\n",
      "Aún eres menor de edad.\n",
      "Tu edad es:  5\n",
      "Aún eres menor de edad.\n",
      "Tu edad es:  6\n",
      "Aún eres menor de edad.\n",
      "Tu edad es:  7\n",
      "Aún eres menor de edad.\n",
      "Tu edad es:  8\n",
      "Aún eres menor de edad.\n",
      "Tu edad es:  9\n",
      "Aún eres menor de edad.\n",
      "Tu edad es:  10\n",
      "Aún eres menor de edad.\n",
      "Tu edad es:  11\n",
      "Aún eres menor de edad.\n",
      "Tu edad es:  12\n",
      "Aún eres menor de edad.\n",
      "Tu edad es:  13\n",
      "Aún eres menor de edad.\n",
      "Tu edad es:  14\n",
      "Aún eres menor de edad.\n",
      "Tu edad es:  15\n",
      "Aún eres menor de edad.\n",
      "Tu edad es:  16\n",
      "Aún eres menor de edad.\n",
      "Tu edad es:  17\n",
      "Aún eres menor de edad.\n",
      "Tu edad es:  18\n",
      "!!Ya eres mayor de edad\n"
     ]
    }
   ],
   "source": [
    "# Bucle while. \n",
    "# Es parecido a for pero itera por el codigo mientras una declaracion se cumpla\n",
    "# Como funciona:\n",
    "#              1. Determina si la declaracion es cierta o falsa\n",
    "#              2. Si es falsa, no ejecuta el bucle y continua secuencia programa\n",
    "#              3. si es verdadero ejecuta el codigo y regresa al paso 1\n",
    "\n",
    "edad = 2\n",
    "while edad < 18:\n",
    "    print(\"Tu edad es: \",edad)\n",
    "    print(\"Aún eres menor de edad.\")\n",
    "    edad +=1\n",
    "print(\"Tu edad es: \", edad)\n",
    "print(\"!!Ya eres mayor de edad\")\n",
    "\n",
    "##Importante poner dentro del codigo un elemento que cambie la declaracion inicial \n",
    "# de verdadero a falso para que el bucle se detenga"
   ]
  },
  {
   "cell_type": "code",
   "execution_count": 7,
   "metadata": {},
   "outputs": [
    {
     "name": "stdout",
     "output_type": "stream",
     "text": [
      "La suma es: 5050\n"
     ]
    }
   ],
   "source": [
    "#escribe un programa que mestre la suma de todos los numeros del 1 al 100\n",
    "\n",
    "suma_numeros_100= 0\n",
    "for i in range(101):\n",
    "    suma_numeros_100 = suma_numeros_100 + i\n",
    "print (\"La suma es:\",suma_numeros_100)"
   ]
  },
  {
   "cell_type": "code",
   "execution_count": 8,
   "metadata": {},
   "outputs": [
    {
     "name": "stdout",
     "output_type": "stream",
     "text": [
      "La suma es: 1683\n"
     ]
    }
   ],
   "source": [
    "#escribe un programa que mestre la suma de todos los numeros del 1 al 100 pero que sean multiplos de 3\n",
    "\n",
    "suma_numeros_100= 0\n",
    "for i in range(101):\n",
    "    if i%3 == 0:       # % es operacion modulo y sirve para saber si es divisible por ese numero\n",
    "        suma_numeros_100 = suma_numeros_100 + i\n",
    "print (\"La suma es:\",suma_numeros_100)"
   ]
  },
  {
   "cell_type": "code",
   "execution_count": 9,
   "metadata": {},
   "outputs": [
    {
     "name": "stdout",
     "output_type": "stream",
     "text": [
      "12\n",
      "76\n",
      "90\n",
      "92\n",
      "8\n",
      "22\n",
      "66\n",
      "70\n",
      "4\n",
      "84\n",
      "52\n",
      "66\n",
      "92\n",
      "22\n",
      "68\n",
      "76\n",
      "92\n",
      "34\n",
      "18\n",
      "30\n"
     ]
    }
   ],
   "source": [
    "#escribe un programa de 20 numeros aleatorios entre 0 y 100 que sean pares\n",
    "import random\n",
    "for i in range(20):\n",
    "    print(random.randrange(0,100,2))\n",
    "    "
   ]
  },
  {
   "cell_type": "code",
   "execution_count": 10,
   "metadata": {},
   "outputs": [
    {
     "name": "stdout",
     "output_type": "stream",
     "text": [
      "70\n",
      "15\n",
      "40\n",
      "45\n",
      "45\n",
      "40\n",
      "95\n",
      "25\n",
      "60\n",
      "40\n",
      "85\n",
      "35\n",
      "45\n",
      "50\n",
      "50\n",
      "5\n",
      "55\n",
      "70\n",
      "95\n",
      "45\n",
      "70\n",
      "35\n",
      "50\n",
      "55\n",
      "70\n",
      "5\n",
      "55\n",
      "60\n",
      "10\n",
      "25\n",
      "55\n",
      "45\n",
      "60\n",
      "75\n",
      "5\n",
      "50\n",
      "45\n",
      "60\n",
      "10\n",
      "65\n",
      "60\n",
      "45\n",
      "15\n",
      "35\n",
      "65\n",
      "5\n",
      "15\n",
      "15\n",
      "5\n",
      "35\n"
     ]
    }
   ],
   "source": [
    "#escribe un programa de 50 numeros aleatorios entre 0 y 100 que sean multiplos de 5\n",
    "\n",
    "for i in range(50):\n",
    "    print(random.randrange(0,100,5))"
   ]
  },
  {
   "cell_type": "code",
   "execution_count": 11,
   "metadata": {},
   "outputs": [
    {
     "name": "stdout",
     "output_type": "stream",
     "text": [
      "90\n",
      "90\n",
      "90\n",
      "90\n",
      "90\n",
      "90\n",
      "90\n",
      "90\n",
      "90\n",
      "90\n",
      "90\n",
      "90\n",
      "90\n",
      "90\n",
      "90\n",
      "90\n",
      "90\n",
      "90\n",
      "90\n",
      "90\n",
      "90\n",
      "90\n",
      "90\n",
      "90\n",
      "90\n",
      "90\n",
      "90\n",
      "90\n",
      "90\n",
      "90\n",
      "90\n",
      "90\n",
      "90\n",
      "90\n",
      "90\n",
      "90\n",
      "90\n",
      "90\n",
      "90\n",
      "90\n",
      "90\n",
      "90\n",
      "90\n",
      "90\n",
      "90\n",
      "90\n",
      "90\n",
      "90\n",
      "90\n",
      "90\n"
     ]
    }
   ],
   "source": [
    "x = (random.randrange(0,100,5))\n",
    "for i in range(50):\n",
    "    print(x)"
   ]
  },
  {
   "cell_type": "code",
   "execution_count": null,
   "metadata": {},
   "outputs": [],
   "source": []
  }
 ],
 "metadata": {
  "kernelspec": {
   "display_name": "Python 3",
   "language": "python",
   "name": "python3"
  },
  "language_info": {
   "codemirror_mode": {
    "name": "ipython",
    "version": 3
   },
   "file_extension": ".py",
   "mimetype": "text/x-python",
   "name": "python",
   "nbconvert_exporter": "python",
   "pygments_lexer": "ipython3",
   "version": "3.8.3"
  }
 },
 "nbformat": 4,
 "nbformat_minor": 4
}
